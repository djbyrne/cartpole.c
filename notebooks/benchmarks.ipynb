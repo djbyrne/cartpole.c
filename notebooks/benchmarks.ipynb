{
 "cells": [
  {
   "cell_type": "code",
   "execution_count": 1,
   "metadata": {},
   "outputs": [],
   "source": [
    "# test_cartpole.py\n",
    "import cartpole\n",
    "import random\n",
    "import time\n",
    "\n",
    "\n",
    "def run_cartpole_c(max_total_steps: int = 10_000):\n",
    "    env = cartpole.CartPoleEnv()\n",
    "    state = env.reset()\n",
    "    # print(\"Initial State:\", state)\n",
    "\n",
    "    done = False\n",
    "    time_steps = 0\n",
    "    total_steps = 0\n",
    "    max_time_steps = 500\n",
    "\n",
    "    start_time = time.time()\n",
    "\n",
    "    while total_steps < max_total_steps:\n",
    "\n",
    "        while not done and time_steps < max_time_steps:\n",
    "            # Agent selects a random action\n",
    "            action = random.randint(0, 1)\n",
    "            state, reward, done = env.step(action)\n",
    "            # print(f\"Time Step: {time_steps}, Action: {action}, State: {state}, Reward: {reward}, Done: {done}\")\n",
    "            time_steps += 1\n",
    "            total_steps += 1\n",
    "\n",
    "            if total_steps >= max_total_steps:\n",
    "                break\n",
    "\n",
    "        if done:\n",
    "            time_steps = 0\n",
    "            done = False\n",
    "            # print(f\"Episode terminated after {time_steps} time steps.\")\n",
    "        # else:\n",
    "            # print(f\"Episode reached max time steps ({max_time_steps}).\")\n",
    "        env.reset()\n",
    "\n",
    "    sps = total_steps / (time.time() - start_time)\n",
    "    print(f\"CartPole C:\\nTotal Steps: {total_steps}, Steps per Second: {sps:.2f}\")\n",
    "    return sps"
   ]
  },
  {
   "cell_type": "code",
   "execution_count": 2,
   "metadata": {},
   "outputs": [
    {
     "name": "stdout",
     "output_type": "stream",
     "text": [
      "CartPole C:\n",
      "Total Steps: 10000, Steps per Second: 1054719.74\n"
     ]
    }
   ],
   "source": [
    "c_sps = run_cartpole_c(10_000)"
   ]
  },
  {
   "cell_type": "code",
   "execution_count": 3,
   "metadata": {},
   "outputs": [],
   "source": [
    "import gymnasium as gym\n",
    "\n",
    "def run_cartpole_py(max_total_steps: int = 10_000):\n",
    "    env = gym.make(\"CartPole-v1\")\n",
    "    state, info = env.reset()\n",
    "    # print(\"Initial State:\", state)\n",
    "\n",
    "    done = False\n",
    "    time_steps = 0\n",
    "    total_steps = 0\n",
    "    max_time_steps = 500\n",
    "\n",
    "    start_time = time.time()\n",
    "\n",
    "    while total_steps < max_total_steps:\n",
    "\n",
    "        while not done and time_steps < max_time_steps:\n",
    "            # Agent selects a random action\n",
    "            action = env.action_space.sample()\n",
    "            _, _, done, truncated, _ = env.step(action)\n",
    "            time_steps += 1\n",
    "            total_steps += 1\n",
    "\n",
    "            if total_steps >= max_total_steps:\n",
    "                break\n",
    "\n",
    "        if done or truncated:\n",
    "            time_steps = 0\n",
    "            done = False\n",
    "\n",
    "        env.reset()\n",
    "\n",
    "    sps = total_steps / (time.time() - start_time)\n",
    "    print(f\"CartPole Python:\\nTotal Steps: {total_steps}, Steps per Second: {sps:.2f}\")\n",
    "    return sps\n"
   ]
  },
  {
   "cell_type": "code",
   "execution_count": 4,
   "metadata": {},
   "outputs": [
    {
     "name": "stdout",
     "output_type": "stream",
     "text": [
      "CartPole Python:\n",
      "Total Steps: 10000, Steps per Second: 144269.01\n"
     ]
    }
   ],
   "source": [
    "py_sps = run_cartpole_py(10_000)"
   ]
  },
  {
   "cell_type": "code",
   "execution_count": 136,
   "metadata": {},
   "outputs": [
    {
     "name": "stdout",
     "output_type": "stream",
     "text": [
      "CartPole C:\n",
      "Total Steps: 10000000, Steps per Second: 2247189.54\n",
      "CartPole Python:\n",
      "Total Steps: 10000000, Steps per Second: 182708.32\n",
      "Speedup: 12.30X\n"
     ]
    }
   ],
   "source": [
    "c_sps = run_cartpole_c(10_000_000)\n",
    "py_sps = run_cartpole_py(10_000_000)\n",
    "\n",
    "print(f\"Speedup: {c_sps / py_sps:.2f}X\")\n"
   ]
  },
  {
   "cell_type": "code",
   "execution_count": 6,
   "metadata": {},
   "outputs": [
    {
     "data": {
      "image/png": "[encoded data removed]",
      "text/plain": [
       "<Figure size 640x480 with 1 Axes>"
      ]
     },
     "metadata": {},
     "output_type": "display_data"
    }
   ],
   "source": [
    "# Plot a histogram of the results\n",
    "import matplotlib.pyplot as plt\n",
    "\n",
    "plt.bar([\"CartPole C\", \"CartPole Python\"], [c_sps, py_sps], color=[\"blue\", \"orange\"])\n",
    "plt.ylabel(\"Steps Per Second\")\n",
    "plt.show()"
   ]
  },
  {
   "cell_type": "code",
   "execution_count": null,
   "metadata": {},
   "outputs": [],
   "source": []
  }
 ],
 "metadata": {
  "kernelspec": {
   "display_name": "adv_c",
   "language": "python",
   "name": "python3"
  },
  "language_info": {
   "codemirror_mode": {
    "name": "ipython",
    "version": 3
   },
   "file_extension": ".py",
   "mimetype": "text/x-python",
   "name": "python",
   "nbconvert_exporter": "python",
   "pygments_lexer": "ipython3",
   "version": "3.11.0"
  }
 },
 "nbformat": 4,
 "nbformat_minor": 2
}
