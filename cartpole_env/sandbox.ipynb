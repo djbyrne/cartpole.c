{
 "cells": [
  {
   "cell_type": "code",
   "execution_count": 107,
   "metadata": {},
   "outputs": [],
   "source": [
    "# test_cartpole.py\n",
    "import cartpole\n",
    "import random\n",
    "import time\n",
    "\n",
    "\n",
    "def run_cartpole_c(max_total_steps: int = 10_000):\n",
    "    env = cartpole.CartPoleEnv()\n",
    "    state = env.reset()\n",
    "    # print(\"Initial State:\", state)\n",
    "\n",
    "    done = False\n",
    "    time_steps = 0\n",
    "    total_steps = 0\n",
    "    max_time_steps = 500\n",
    "\n",
    "    start_time = time.time()\n",
    "\n",
    "    while total_steps < max_total_steps:\n",
    "\n",
    "        while not done and time_steps < max_time_steps:\n",
    "            # Agent selects a random action\n",
    "            action = random.randint(0, 1)\n",
    "            state, reward, done = env.step(action)\n",
    "            # print(f\"Time Step: {time_steps}, Action: {action}, State: {state}, Reward: {reward}, Done: {done}\")\n",
    "            time_steps += 1\n",
    "            total_steps += 1\n",
    "\n",
    "            if total_steps >= max_total_steps:\n",
    "                break\n",
    "\n",
    "        if done:\n",
    "            time_steps = 0\n",
    "            done = False\n",
    "            # print(f\"Episode terminated after {time_steps} time steps.\")\n",
    "        # else:\n",
    "            # print(f\"Episode reached max time steps ({max_time_steps}).\")\n",
    "        env.reset()\n",
    "\n",
    "    sps = total_steps / (time.time() - start_time)\n",
    "    print(f\"CartPole C:\\nTotal Steps: {total_steps}, Steps per Second: {sps:.2f}\")\n",
    "    return sps"
   ]
  },
  {
   "cell_type": "code",
   "execution_count": 108,
   "metadata": {},
   "outputs": [
    {
     "name": "stdout",
     "output_type": "stream",
     "text": [
      "CartPole C:\n",
      "Total Steps: 10000, Steps per Second: 1188356.42\n"
     ]
    },
    {
     "data": {
      "text/plain": [
       "1188356.4244227228"
      ]
     },
     "execution_count": 108,
     "metadata": {},
     "output_type": "execute_result"
    }
   ],
   "source": [
    "run_cartpole_c(10_000)"
   ]
  },
  {
   "cell_type": "code",
   "execution_count": 109,
   "metadata": {},
   "outputs": [],
   "source": [
    "import gymnasium as gym\n",
    "\n",
    "def run_cartpole_py(max_total_steps: int = 10_000):\n",
    "    env = gym.make(\"CartPole-v1\")\n",
    "    state, info = env.reset()\n",
    "    # print(\"Initial State:\", state)\n",
    "\n",
    "    done = False\n",
    "    time_steps = 0\n",
    "    total_steps = 0\n",
    "    max_time_steps = 500\n",
    "\n",
    "    start_time = time.time()\n",
    "\n",
    "    while total_steps < max_total_steps:\n",
    "\n",
    "        while not done and time_steps < max_time_steps:\n",
    "            # Agent selects a random action\n",
    "            action = env.action_space.sample()\n",
    "            _, _, done, truncated, _ = env.step(action)\n",
    "            time_steps += 1\n",
    "            total_steps += 1\n",
    "\n",
    "            if total_steps >= max_total_steps:\n",
    "                break\n",
    "\n",
    "        if done or truncated:\n",
    "            time_steps = 0\n",
    "            done = False\n",
    "\n",
    "        env.reset()\n",
    "\n",
    "    sps = total_steps / (time.time() - start_time)\n",
    "    print(f\"CartPole Python:\\nTotal Steps: {total_steps}, Steps per Second: {sps:.2f}\")\n",
    "    return sps\n"
   ]
  },
  {
   "cell_type": "code",
   "execution_count": 110,
   "metadata": {},
   "outputs": [
    {
     "name": "stdout",
     "output_type": "stream",
     "text": [
      "CartPole Python:\n",
      "Total Steps: 10000, Steps per Second: 141264.69\n"
     ]
    },
    {
     "data": {
      "text/plain": [
       "141264.68874511216"
      ]
     },
     "execution_count": 110,
     "metadata": {},
     "output_type": "execute_result"
    }
   ],
   "source": [
    "run_cartpole_py(10_000)"
   ]
  },
  {
   "cell_type": "code",
   "execution_count": 111,
   "metadata": {},
   "outputs": [],
   "source": [
    "import time\n",
    "import jax\n",
    "jax.config.update(\"jax_enable_x64\", True)\n",
    "import gymnax\n",
    "\n",
    "def run_cartpole_jax(max_total_steps: int = 10_000):\n",
    "    key = jax.random.PRNGKey(0)\n",
    "    env, env_params = gymnax.make(\"CartPole-v1\")\n",
    "\n",
    "    # JIT the environment functions\n",
    "    jit_step = jax.jit(env.step)\n",
    "    jit_reset = jax.jit(env.reset)\n",
    "\n",
    "    total_steps = 0\n",
    "    max_time_steps = 1000\n",
    "\n",
    "    start_time = time.time()\n",
    "\n",
    "    while total_steps < max_total_steps:\n",
    "        # Reset the environment and keys at the start of each episode\n",
    "        key, subkey = jax.random.split(key)\n",
    "        obs, state = jit_reset(subkey, env_params)\n",
    "        done = False\n",
    "        time_steps = 0\n",
    "\n",
    "        while not done and time_steps < max_time_steps:\n",
    "            # Split keys for action and step\n",
    "            key, subkey = jax.random.split(key)\n",
    "            action = env.action_space(env_params).sample(subkey)\n",
    "\n",
    "            key, subkey = jax.random.split(key)\n",
    "            obs, state, reward, done, _ = jit_step(subkey, state, action, env_params)\n",
    "\n",
    "            time_steps += 1\n",
    "            total_steps += 1\n",
    "\n",
    "            if total_steps >= max_total_steps:\n",
    "                break\n",
    "\n",
    "    sps = total_steps / (time.time() - start_time)\n",
    "    print(f\"CartPole JAX:\\nTotal Steps: {total_steps}, Steps per Second: {sps:.2f}\")\n",
    "    return sps\n"
   ]
  },
  {
   "cell_type": "code",
   "execution_count": 112,
   "metadata": {},
   "outputs": [
    {
     "name": "stdout",
     "output_type": "stream",
     "text": [
      "CartPole JAX:\n",
      "Total Steps: 10000, Steps per Second: 6839.91\n"
     ]
    },
    {
     "data": {
      "text/plain": [
       "6839.90674004873"
      ]
     },
     "execution_count": 112,
     "metadata": {},
     "output_type": "execute_result"
    }
   ],
   "source": [
    "run_cartpole_jax(10_000)"
   ]
  },
  {
   "cell_type": "code",
   "execution_count": 113,
   "metadata": {},
   "outputs": [
    {
     "name": "stdout",
     "output_type": "stream",
     "text": [
      "CartPole C:\n",
      "Total Steps: 10000, Steps per Second: 2152470.49\n",
      "CartPole Python:\n",
      "Total Steps: 10000, Steps per Second: 186046.38\n",
      "CartPole JAX:\n",
      "Total Steps: 10000, Steps per Second: 6219.08\n",
      "Speedup: 346.11\n",
      "Speedup: 29.92\n"
     ]
    }
   ],
   "source": [
    "c_sps = run_cartpole_c(10_000)\n",
    "py_sps = run_cartpole_py(10_000)\n",
    "jax_sps = run_cartpole_jax(10_000)\n",
    "\n",
    "print(f\"Speedup: {c_sps / jax_sps:.2f}\")\n",
    "print(f\"Speedup: {py_sps / jax_sps:.2f}\")\n"
   ]
  },
  {
   "cell_type": "code",
   "execution_count": 115,
   "metadata": {},
   "outputs": [
    {
     "data": {
      "image/png": "[encoded data removed]",
      "text/plain": [
       "<Figure size 640x480 with 1 Axes>"
      ]
     },
     "metadata": {},
     "output_type": "display_data"
    }
   ],
   "source": [
    "# Plot a histogram of the results\n",
    "import matplotlib.pyplot as plt\n",
    "\n",
    "\n",
    "plt.bar([\"CartPole C\", \"CartPole Python\", \"CartPole JAX\"], [c_sps, py_sps, jax_sps], color=[\"blue\", \"orange\", \"green\"])\n",
    "plt.ylabel(\"Steps per Second\")\n",
    "plt.show()"
   ]
  },
  {
   "cell_type": "code",
   "execution_count": null,
   "metadata": {},
   "outputs": [],
   "source": []
  }
 ],
 "metadata": {
  "kernelspec": {
   "display_name": "adv_c",
   "language": "python",
   "name": "python3"
  },
  "language_info": {
   "codemirror_mode": {
    "name": "ipython",
    "version": 3
   },
   "file_extension": ".py",
   "mimetype": "text/x-python",
   "name": "python",
   "nbconvert_exporter": "python",
   "pygments_lexer": "ipython3",
   "version": "3.11.0"
  }
 },
 "nbformat": 4,
 "nbformat_minor": 2
}
